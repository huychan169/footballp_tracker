{
 "cells": [
  {
   "cell_type": "code",
   "execution_count": null,
   "id": "6b304ad4",
   "metadata": {},
   "outputs": [],
   "source": [
    "!pip install ultralytics\n",
    "!pip install roboflow"
   ]
  },
  {
   "cell_type": "markdown",
   "id": "fa1b495d",
   "metadata": {},
   "source": [
    "# Get Dataset"
   ]
  },
  {
   "cell_type": "code",
   "execution_count": null,
   "id": "6803a251",
   "metadata": {},
   "outputs": [
    {
     "name": "stdout",
     "output_type": "stream",
     "text": [
      "loading Roboflow workspace...\n",
      "loading Roboflow project...\n"
     ]
    }
   ],
   "source": [
    "# from roboflow import Roboflow\n",
    "# rf = Roboflow(api_key=\"4uzory5K7SDNEPunaMGy\")\n",
    "# project = rf.workspace(\"normalcam\").project(\"detect-nnort\")\n",
    "# version = project.version(9)\n",
    "# dataset = version.download(\"yolov5\")          "
   ]
  },
  {
   "cell_type": "code",
   "execution_count": 7,
   "id": "20eb8f78",
   "metadata": {},
   "outputs": [
    {
     "name": "stdout",
     "output_type": "stream",
     "text": [
      "e:\\ftel_prj\\training\\Detect-9\n"
     ]
    }
   ],
   "source": [
    "# dataset.location\n",
    "\n",
    "dataset = type('Dataset', (), {})()\n",
    "dataset.location = 'e:\\\\ftel_prj\\\\training\\\\Detect-9'\n",
    "print(dataset.location)"
   ]
  },
  {
   "cell_type": "code",
   "execution_count": null,
   "id": "8df24580",
   "metadata": {},
   "outputs": [],
   "source": [
    "# import shutil\n",
    "\n",
    "# shutil.move('Detect-9/train',\n",
    "#             'Detect-9/Detect-9/train'\n",
    "#             )\n",
    "\n",
    "# shutil.move('Detect-9/test',\n",
    "#             'Detect-9/Detect-9/test'\n",
    "#             )\n",
    "\n",
    "# shutil.move('Detect-9/valid',\n",
    "#             'Detect-9/Detect-9/valid'\n",
    "#             )"
   ]
  },
  {
   "cell_type": "markdown",
   "id": "5f700487",
   "metadata": {},
   "source": [
    "# Training"
   ]
  },
  {
   "cell_type": "code",
   "execution_count": 8,
   "id": "0942b8fe",
   "metadata": {},
   "outputs": [
    {
     "name": "stdout",
     "output_type": "stream",
     "text": [
      "^C\n"
     ]
    }
   ],
   "source": [
    "!yolo task=detect mode=train model=yolov5lu.pt data={dataset.location}/data.yaml epochs=50 imgsz=640 device=0 workers=0"
   ]
  },
  {
   "cell_type": "code",
   "execution_count": null,
   "id": "e033ac62",
   "metadata": {},
   "outputs": [],
   "source": []
  }
 ],
 "metadata": {
  "kernelspec": {
   "display_name": "trk",
   "language": "python",
   "name": "python3"
  },
  "language_info": {
   "codemirror_mode": {
    "name": "ipython",
    "version": 3
   },
   "file_extension": ".py",
   "mimetype": "text/x-python",
   "name": "python",
   "nbconvert_exporter": "python",
   "pygments_lexer": "ipython3",
   "version": "3.9.23"
  }
 },
 "nbformat": 4,
 "nbformat_minor": 5
}
